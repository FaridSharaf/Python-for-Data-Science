{
 "cells": [
  {
   "cell_type": "markdown",
   "metadata": {},
   "source": [
    "### Problem Descripition \n",
    "\n",
    "In 2012, URL shortening service Bitly partnered with the US government website USA.gov to provide a feed of anonymous data gathered from users who shorten links ending with .gov or .mil.\n",
    "\n",
    "The text file comes in JSON format and here are some keys and their description. They are only the most important ones for this task."
   ]
  },
  {
   "cell_type": "markdown",
   "metadata": {},
   "source": [
    "|key| description |\n",
    "|---|-----------|\n",
    "| a|Denotes information about the web browser and operating system|\n",
    "| tz | time zone |\n",
    "| r | URL the user come from |\n",
    "| u | URL where the user headed to |\n",
    "| t | Timestamp when the user start using the website in UNIX format |\n",
    "| hc | Timestamp when user exit the website in UNIX format |\n",
    "| cy | City from which the request intiated |\n",
    "| ll | Longitude and Latitude |"
   ]
  },
  {
   "cell_type": "code",
   "execution_count": 198,
   "metadata": {},
   "outputs": [],
   "source": [
    "import json         # import pandas.io.json library\n",
    "import pandas as pd # import pandas library\n",
    "from datetime import datetime\n",
    "import os"
   ]
  },
  {
   "cell_type": "code",
   "execution_count": 199,
   "metadata": {},
   "outputs": [],
   "source": [
    "# load json file into a list\n",
    "records = [json.loads(line) for line in open(\"usa.gov_click_data.json\")]\n",
    "\n",
    "#convert the list to a dataframe\n",
    "data = pd.json_normalize(records)"
   ]
  },
  {
   "cell_type": "code",
   "execution_count": 200,
   "metadata": {},
   "outputs": [],
   "source": [
    "# getting web browser and operating systems information\n",
    "\n",
    "data['web_browser'] = data['a'].str.split(\" \", 2, expand = True)[0]   # Web Browser details\n",
    "data['operating_sys'] = data['a'].str.split(\" \", 2, expand = True)[1] # Operating Systems info"
   ]
  },
  {
   "cell_type": "code",
   "execution_count": 201,
   "metadata": {},
   "outputs": [
    {
     "data": {
      "text/plain": [
       "Mozilla/5.0                 2594\n",
       "Mozilla/4.0                  601\n",
       "GoogleMaps/RochesterNY       121\n",
       "Opera/9.80                    34\n",
       "TEST_INTERNET_AGENT           24\n",
       "GoogleProducer                21\n",
       "Mozilla/6.0                    5\n",
       "BlackBerry8520/5.0.0.681       4\n",
       "BlackBerry8520/5.0.0.592       3\n",
       "Dalvik/1.4.0                   3\n",
       "Name: web_browser, dtype: int64"
      ]
     },
     "execution_count": 201,
     "metadata": {},
     "output_type": "execute_result"
    }
   ],
   "source": [
    "data['web_browser'].value_counts()[:10]"
   ]
  },
  {
   "cell_type": "code",
   "execution_count": 202,
   "metadata": {},
   "outputs": [
    {
     "data": {
      "text/plain": [
       "(Windows            1962\n",
       "(Macintosh;          355\n",
       "(Windows;            294\n",
       "(iPhone;             234\n",
       "(iPad;               170\n",
       "(Linux;              127\n",
       "(Ubuntu               37\n",
       "(BlackBerry;          23\n",
       "Profile/MIDP-2.1      15\n",
       "(iPod;                11\n",
       "Name: operating_sys, dtype: int64"
      ]
     },
     "execution_count": 202,
     "metadata": {},
     "output_type": "execute_result"
    }
   ],
   "source": [
    "data['operating_sys'].value_counts()[:10]"
   ]
  },
  {
   "cell_type": "code",
   "execution_count": 203,
   "metadata": {},
   "outputs": [],
   "source": [
    "# clear OS data from non-characters\n",
    "data['operating_sys'] = data['operating_sys'].replace(regex={r';':'',r'\\(':'', r'\\)':''})"
   ]
  },
  {
   "cell_type": "code",
   "execution_count": 204,
   "metadata": {
    "scrolled": false
   },
   "outputs": [
    {
     "data": {
      "text/plain": [
       "Windows             2256\n",
       "Macintosh            356\n",
       "iPhone               234\n",
       "iPad                 170\n",
       "Linux                127\n",
       "Ubuntu                37\n",
       "BlackBerry            23\n",
       "Profile/MIDP-2.1      15\n",
       "iPod                  12\n",
       "J2ME/MIDP              9\n",
       "Name: operating_sys, dtype: int64"
      ]
     },
     "execution_count": 204,
     "metadata": {},
     "output_type": "execute_result"
    }
   ],
   "source": [
    "data['operating_sys'].value_counts()[:10]"
   ]
  },
  {
   "cell_type": "code",
   "execution_count": 205,
   "metadata": {},
   "outputs": [],
   "source": [
    "# extract the URL the user comes from\n",
    "data['from_URL'] = data['r'].str.split(\"\\/\", expand = True)[2]\n",
    "\n",
    "# fill the direct links value\n",
    "data['from_URL'].fillna('direct', inplace = True)"
   ]
  },
  {
   "cell_type": "code",
   "execution_count": 206,
   "metadata": {},
   "outputs": [],
   "source": [
    "# fill the direct links value\n",
    "data['from_URL'].fillna('direct', inplace = True)"
   ]
  },
  {
   "cell_type": "code",
   "execution_count": 207,
   "metadata": {},
   "outputs": [
    {
     "data": {
      "text/plain": [
       "1109                   direct\n",
       "3226                     t.co\n",
       "5       www.shrewsbury-ma.gov\n",
       "101          www.facebook.com\n",
       "64           www.facebook.com\n",
       "Name: from_URL, dtype: object"
      ]
     },
     "execution_count": 207,
     "metadata": {},
     "output_type": "execute_result"
    }
   ],
   "source": [
    "data['from_URL'].sample(5)"
   ]
  },
  {
   "cell_type": "code",
   "execution_count": 208,
   "metadata": {},
   "outputs": [],
   "source": [
    "# extract the URL the user is headed to\n",
    "data['to_URL'] = data['u'].str.split(\"\\/\", expand = True)[2]"
   ]
  },
  {
   "cell_type": "code",
   "execution_count": 209,
   "metadata": {},
   "outputs": [
    {
     "data": {
      "text/plain": [
       "www.nysdot.gov          836\n",
       "www.nasa.gov            733\n",
       "www.whitehouse.gov      169\n",
       "www.monroecounty.gov    121\n",
       "www.fda.gov             112\n",
       "Name: to_URL, dtype: int64"
      ]
     },
     "execution_count": 209,
     "metadata": {},
     "output_type": "execute_result"
    }
   ],
   "source": [
    "data['to_URL'].value_counts()[:5]"
   ]
  },
  {
   "cell_type": "code",
   "execution_count": 210,
   "metadata": {},
   "outputs": [],
   "source": [
    "# find the city from which the request is initiated\n",
    "data['city'] = data['cy']"
   ]
  },
  {
   "cell_type": "code",
   "execution_count": 211,
   "metadata": {},
   "outputs": [],
   "source": [
    "# track the longitude where the request was sent\n",
    "data[['longitude', 'latitude']] = data['ll'].apply(pd.Series)"
   ]
  },
  {
   "cell_type": "code",
   "execution_count": 212,
   "metadata": {},
   "outputs": [],
   "source": [
    "# Retrieve each city time zone\n",
    "data['time_zone'] = data['tz']"
   ]
  },
  {
   "cell_type": "code",
   "execution_count": 213,
   "metadata": {},
   "outputs": [],
   "source": [
    "# convert time_in and time_out to local timezone\n",
    "data['time_in'] = data['hc']\n",
    "data['time_in'] = pd.to_datetime(data['time_in'], unit = 's').dt.tz_localize('UTC').dt.tz_convert('UTC')\n",
    "\n",
    "data['time_out'] = data['t']\n",
    "data['time_out'] = pd.to_datetime(data['time_out'], unit = 's').dt.tz_localize('UTC').dt.tz_convert('UTC')"
   ]
  },
  {
   "cell_type": "code",
   "execution_count": 214,
   "metadata": {},
   "outputs": [],
   "source": [
    "# drop old data from dataframe\n",
    "data.drop(columns = ['a', 'c', 'nk', 'tz', 'gr', 'g', 'h', 'l', 'al', 'hh', 'r', 'u', 't',\n",
    "       'hc', 'cy', 'll', '_heartbeat_', 'kw'], inplace = True)\n",
    "data.dropna(inplace = True)"
   ]
  },
  {
   "cell_type": "code",
   "execution_count": 215,
   "metadata": {},
   "outputs": [
    {
     "name": "stdout",
     "output_type": "stream",
     "text": [
      "<class 'pandas.core.frame.DataFrame'>\n",
      "Int64Index: 2752 entries, 0 to 3559\n",
      "Data columns (total 10 columns):\n",
      " #   Column         Non-Null Count  Dtype              \n",
      "---  ------         --------------  -----              \n",
      " 0   web_browser    2752 non-null   object             \n",
      " 1   operating_sys  2752 non-null   object             \n",
      " 2   from_URL       2752 non-null   object             \n",
      " 3   to_URL         2752 non-null   object             \n",
      " 4   city           2752 non-null   object             \n",
      " 5   longitude      2752 non-null   float64            \n",
      " 6   latitude       2752 non-null   float64            \n",
      " 7   time_zone      2752 non-null   object             \n",
      " 8   time_in        2752 non-null   datetime64[ns, UTC]\n",
      " 9   time_out       2752 non-null   datetime64[ns, UTC]\n",
      "dtypes: datetime64[ns, UTC](2), float64(2), object(6)\n",
      "memory usage: 236.5+ KB\n"
     ]
    }
   ],
   "source": [
    "data.info()"
   ]
  },
  {
   "cell_type": "code",
   "execution_count": 216,
   "metadata": {},
   "outputs": [
    {
     "data": {
      "text/html": [
       "<div>\n",
       "<style scoped>\n",
       "    .dataframe tbody tr th:only-of-type {\n",
       "        vertical-align: middle;\n",
       "    }\n",
       "\n",
       "    .dataframe tbody tr th {\n",
       "        vertical-align: top;\n",
       "    }\n",
       "\n",
       "    .dataframe thead th {\n",
       "        text-align: right;\n",
       "    }\n",
       "</style>\n",
       "<table border=\"1\" class=\"dataframe\">\n",
       "  <thead>\n",
       "    <tr style=\"text-align: right;\">\n",
       "      <th></th>\n",
       "      <th>web_browser</th>\n",
       "      <th>operating_sys</th>\n",
       "      <th>from_URL</th>\n",
       "      <th>to_URL</th>\n",
       "      <th>city</th>\n",
       "      <th>longitude</th>\n",
       "      <th>latitude</th>\n",
       "      <th>time_zone</th>\n",
       "      <th>time_in</th>\n",
       "      <th>time_out</th>\n",
       "    </tr>\n",
       "  </thead>\n",
       "  <tbody>\n",
       "    <tr>\n",
       "      <th>0</th>\n",
       "      <td>Mozilla/5.0</td>\n",
       "      <td>Windows</td>\n",
       "      <td>www.facebook.com</td>\n",
       "      <td>www.ncbi.nlm.nih.gov</td>\n",
       "      <td>Danvers</td>\n",
       "      <td>42.576698</td>\n",
       "      <td>-70.954903</td>\n",
       "      <td>America/New_York</td>\n",
       "      <td>2012-03-15 14:48:38+00:00</td>\n",
       "      <td>2012-03-16 18:40:47+00:00</td>\n",
       "    </tr>\n",
       "    <tr>\n",
       "      <th>2</th>\n",
       "      <td>Mozilla/4.0</td>\n",
       "      <td>Windows</td>\n",
       "      <td>t.co</td>\n",
       "      <td>boxer.senate.gov</td>\n",
       "      <td>Washington</td>\n",
       "      <td>38.900700</td>\n",
       "      <td>-77.043098</td>\n",
       "      <td>America/New_York</td>\n",
       "      <td>2012-03-16 17:45:41+00:00</td>\n",
       "      <td>2012-03-16 18:40:50+00:00</td>\n",
       "    </tr>\n",
       "    <tr>\n",
       "      <th>3</th>\n",
       "      <td>Mozilla/5.0</td>\n",
       "      <td>Macintosh</td>\n",
       "      <td>direct</td>\n",
       "      <td>apod.nasa.gov</td>\n",
       "      <td>Braz</td>\n",
       "      <td>-23.549999</td>\n",
       "      <td>-46.616699</td>\n",
       "      <td>America/Sao_Paulo</td>\n",
       "      <td>2012-03-16 18:37:48+00:00</td>\n",
       "      <td>2012-03-16 18:40:49+00:00</td>\n",
       "    </tr>\n",
       "    <tr>\n",
       "      <th>4</th>\n",
       "      <td>Mozilla/5.0</td>\n",
       "      <td>Windows</td>\n",
       "      <td>www.shrewsbury-ma.gov</td>\n",
       "      <td>www.shrewsbury-ma.gov</td>\n",
       "      <td>Shrewsbury</td>\n",
       "      <td>42.286499</td>\n",
       "      <td>-71.714699</td>\n",
       "      <td>America/New_York</td>\n",
       "      <td>2010-05-12 13:53:31+00:00</td>\n",
       "      <td>2012-03-16 18:40:51+00:00</td>\n",
       "    </tr>\n",
       "    <tr>\n",
       "      <th>5</th>\n",
       "      <td>Mozilla/5.0</td>\n",
       "      <td>Windows</td>\n",
       "      <td>www.shrewsbury-ma.gov</td>\n",
       "      <td>www.shrewsbury-ma.gov</td>\n",
       "      <td>Shrewsbury</td>\n",
       "      <td>42.286499</td>\n",
       "      <td>-71.714699</td>\n",
       "      <td>America/New_York</td>\n",
       "      <td>2010-05-12 13:55:06+00:00</td>\n",
       "      <td>2012-03-16 18:40:52+00:00</td>\n",
       "    </tr>\n",
       "    <tr>\n",
       "      <th>...</th>\n",
       "      <td>...</td>\n",
       "      <td>...</td>\n",
       "      <td>...</td>\n",
       "      <td>...</td>\n",
       "      <td>...</td>\n",
       "      <td>...</td>\n",
       "      <td>...</td>\n",
       "      <td>...</td>\n",
       "      <td>...</td>\n",
       "      <td>...</td>\n",
       "    </tr>\n",
       "    <tr>\n",
       "      <th>3553</th>\n",
       "      <td>Mozilla/4.0</td>\n",
       "      <td>Windows</td>\n",
       "      <td>www.shrewsbury-ma.gov</td>\n",
       "      <td>www.shrewsbury-ma.gov</td>\n",
       "      <td>Shrewsbury</td>\n",
       "      <td>42.286499</td>\n",
       "      <td>-71.714699</td>\n",
       "      <td>America/New_York</td>\n",
       "      <td>2010-05-12 13:53:31+00:00</td>\n",
       "      <td>2012-03-16 19:40:40+00:00</td>\n",
       "    </tr>\n",
       "    <tr>\n",
       "      <th>3554</th>\n",
       "      <td>Mozilla/4.0</td>\n",
       "      <td>Windows</td>\n",
       "      <td>www.shrewsbury-ma.gov</td>\n",
       "      <td>www.shrewsbury-ma.gov</td>\n",
       "      <td>Shrewsbury</td>\n",
       "      <td>42.286499</td>\n",
       "      <td>-71.714699</td>\n",
       "      <td>America/New_York</td>\n",
       "      <td>2010-05-12 13:55:06+00:00</td>\n",
       "      <td>2012-03-16 19:40:40+00:00</td>\n",
       "    </tr>\n",
       "    <tr>\n",
       "      <th>3555</th>\n",
       "      <td>Mozilla/4.0</td>\n",
       "      <td>Windows</td>\n",
       "      <td>direct</td>\n",
       "      <td>www.fda.gov</td>\n",
       "      <td>Paramus</td>\n",
       "      <td>40.944500</td>\n",
       "      <td>-74.070000</td>\n",
       "      <td>America/New_York</td>\n",
       "      <td>2011-03-28 07:47:59+00:00</td>\n",
       "      <td>2012-03-16 19:40:41+00:00</td>\n",
       "    </tr>\n",
       "    <tr>\n",
       "      <th>3556</th>\n",
       "      <td>Mozilla/5.0</td>\n",
       "      <td>Windows</td>\n",
       "      <td>www.facebook.com</td>\n",
       "      <td>www.okc.gov</td>\n",
       "      <td>Oklahoma City</td>\n",
       "      <td>35.471500</td>\n",
       "      <td>-97.518997</td>\n",
       "      <td>America/Chicago</td>\n",
       "      <td>2011-06-08 10:50:47+00:00</td>\n",
       "      <td>2012-03-16 19:40:44+00:00</td>\n",
       "    </tr>\n",
       "    <tr>\n",
       "      <th>3559</th>\n",
       "      <td>Mozilla/4.0</td>\n",
       "      <td>Windows</td>\n",
       "      <td>t.co</td>\n",
       "      <td>herndon-va.gov</td>\n",
       "      <td>Mc Lean</td>\n",
       "      <td>38.935799</td>\n",
       "      <td>-77.162102</td>\n",
       "      <td>America/New_York</td>\n",
       "      <td>2011-08-09 13:47:50+00:00</td>\n",
       "      <td>2012-03-16 19:40:49+00:00</td>\n",
       "    </tr>\n",
       "  </tbody>\n",
       "</table>\n",
       "<p>2752 rows × 10 columns</p>\n",
       "</div>"
      ],
      "text/plain": [
       "      web_browser operating_sys               from_URL                 to_URL  \\\n",
       "0     Mozilla/5.0       Windows       www.facebook.com   www.ncbi.nlm.nih.gov   \n",
       "2     Mozilla/4.0       Windows                   t.co       boxer.senate.gov   \n",
       "3     Mozilla/5.0     Macintosh                 direct          apod.nasa.gov   \n",
       "4     Mozilla/5.0       Windows  www.shrewsbury-ma.gov  www.shrewsbury-ma.gov   \n",
       "5     Mozilla/5.0       Windows  www.shrewsbury-ma.gov  www.shrewsbury-ma.gov   \n",
       "...           ...           ...                    ...                    ...   \n",
       "3553  Mozilla/4.0       Windows  www.shrewsbury-ma.gov  www.shrewsbury-ma.gov   \n",
       "3554  Mozilla/4.0       Windows  www.shrewsbury-ma.gov  www.shrewsbury-ma.gov   \n",
       "3555  Mozilla/4.0       Windows                 direct            www.fda.gov   \n",
       "3556  Mozilla/5.0       Windows       www.facebook.com            www.okc.gov   \n",
       "3559  Mozilla/4.0       Windows                   t.co         herndon-va.gov   \n",
       "\n",
       "               city  longitude   latitude          time_zone  \\\n",
       "0           Danvers  42.576698 -70.954903   America/New_York   \n",
       "2        Washington  38.900700 -77.043098   America/New_York   \n",
       "3              Braz -23.549999 -46.616699  America/Sao_Paulo   \n",
       "4        Shrewsbury  42.286499 -71.714699   America/New_York   \n",
       "5        Shrewsbury  42.286499 -71.714699   America/New_York   \n",
       "...             ...        ...        ...                ...   \n",
       "3553     Shrewsbury  42.286499 -71.714699   America/New_York   \n",
       "3554     Shrewsbury  42.286499 -71.714699   America/New_York   \n",
       "3555        Paramus  40.944500 -74.070000   America/New_York   \n",
       "3556  Oklahoma City  35.471500 -97.518997    America/Chicago   \n",
       "3559        Mc Lean  38.935799 -77.162102   America/New_York   \n",
       "\n",
       "                       time_in                  time_out  \n",
       "0    2012-03-15 14:48:38+00:00 2012-03-16 18:40:47+00:00  \n",
       "2    2012-03-16 17:45:41+00:00 2012-03-16 18:40:50+00:00  \n",
       "3    2012-03-16 18:37:48+00:00 2012-03-16 18:40:49+00:00  \n",
       "4    2010-05-12 13:53:31+00:00 2012-03-16 18:40:51+00:00  \n",
       "5    2010-05-12 13:55:06+00:00 2012-03-16 18:40:52+00:00  \n",
       "...                        ...                       ...  \n",
       "3553 2010-05-12 13:53:31+00:00 2012-03-16 19:40:40+00:00  \n",
       "3554 2010-05-12 13:55:06+00:00 2012-03-16 19:40:40+00:00  \n",
       "3555 2011-03-28 07:47:59+00:00 2012-03-16 19:40:41+00:00  \n",
       "3556 2011-06-08 10:50:47+00:00 2012-03-16 19:40:44+00:00  \n",
       "3559 2011-08-09 13:47:50+00:00 2012-03-16 19:40:49+00:00  \n",
       "\n",
       "[2752 rows x 10 columns]"
      ]
     },
     "execution_count": 216,
     "metadata": {},
     "output_type": "execute_result"
    }
   ],
   "source": [
    "data"
   ]
  },
  {
   "cell_type": "code",
   "execution_count": 217,
   "metadata": {},
   "outputs": [
    {
     "name": "stdout",
     "output_type": "stream",
     "text": [
      "Rows available: 2752\n"
     ]
    }
   ],
   "source": [
    "print(\"Rows available:\", data.shape[0])"
   ]
  },
  {
   "cell_type": "code",
   "execution_count": 218,
   "metadata": {},
   "outputs": [],
   "source": [
    "output_path = os.getcwd()"
   ]
  },
  {
   "cell_type": "code",
   "execution_count": 219,
   "metadata": {},
   "outputs": [
    {
     "name": "stdout",
     "output_type": "stream",
     "text": [
      "File output path: D:\\ITI\\Courses\\17. Python for Data Science\\Material\\Task 2\n"
     ]
    }
   ],
   "source": [
    "print(\"File output path:\", output_path)"
   ]
  },
  {
   "cell_type": "code",
   "execution_count": 220,
   "metadata": {},
   "outputs": [],
   "source": [
    "# convert dataframe to a CSV file\n",
    "data.to_csv('USA Data from Bitly.csv', index = False)"
   ]
  }
 ],
 "metadata": {
  "kernelspec": {
   "display_name": "Python 3",
   "language": "python",
   "name": "python3"
  },
  "language_info": {
   "codemirror_mode": {
    "name": "ipython",
    "version": 3
   },
   "file_extension": ".py",
   "mimetype": "text/x-python",
   "name": "python",
   "nbconvert_exporter": "python",
   "pygments_lexer": "ipython3",
   "version": "3.8.5"
  }
 },
 "nbformat": 4,
 "nbformat_minor": 4
}
